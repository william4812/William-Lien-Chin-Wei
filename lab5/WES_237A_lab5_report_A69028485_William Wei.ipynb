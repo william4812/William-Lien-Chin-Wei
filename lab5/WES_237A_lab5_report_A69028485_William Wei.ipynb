{
 "cells": [
  {
   "cell_type": "markdown",
   "metadata": {},
   "source": [
    "# Title: WES_237A_lab5_report\n",
    "# PID: A69028485\n",
    "# Name: William Wei\n",
    "# GitHub username: William Lien Chin Wei\n",
    "# Email (registered with GitHub): williams19834812@gmail.com"
   ]
  },
  {
   "cell_type": "markdown",
   "metadata": {},
   "source": [
    "## Connect the PMOD_AD2 peripheral to PMODA."
   ]
  },
  {
   "cell_type": "markdown",
   "metadata": {
    "id": "Fs5TR4iibJE6"
   },
   "source": [
    "# Using PYNQ library for PMOD_ADC\n",
    "\n",
    "This just uses the built in Pmod_ADC library to read the value on the PMOD_AD2 peripheral."
   ]
  },
  {
   "cell_type": "code",
   "execution_count": 1,
   "metadata": {
    "id": "xjDlpBuobJE-"
   },
   "outputs": [
    {
     "data": {
      "application/javascript": [
       "\n",
       "try {\n",
       "require(['notebook/js/codecell'], function(codecell) {\n",
       "  codecell.CodeCell.options_default.highlight_modes[\n",
       "      'magic_text/x-csrc'] = {'reg':[/^%%microblaze/]};\n",
       "  Jupyter.notebook.events.one('kernel_ready.Kernel', function(){\n",
       "      Jupyter.notebook.get_cells().map(function(cell){\n",
       "          if (cell.cell_type == 'code'){ cell.auto_highlight(); } }) ;\n",
       "  });\n",
       "});\n",
       "} catch (e) {};\n"
      ]
     },
     "metadata": {},
     "output_type": "display_data"
    },
    {
     "data": {
      "application/javascript": [
       "\n",
       "try {\n",
       "require(['notebook/js/codecell'], function(codecell) {\n",
       "  codecell.CodeCell.options_default.highlight_modes[\n",
       "      'magic_text/x-csrc'] = {'reg':[/^%%pybind11/]};\n",
       "  Jupyter.notebook.events.one('kernel_ready.Kernel', function(){\n",
       "      Jupyter.notebook.get_cells().map(function(cell){\n",
       "          if (cell.cell_type == 'code'){ cell.auto_highlight(); } }) ;\n",
       "  });\n",
       "});\n",
       "} catch (e) {};\n"
      ]
     },
     "metadata": {},
     "output_type": "display_data"
    }
   ],
   "source": [
    "from pynq.overlays.base import BaseOverlay\n",
    "from pynq.lib import Pmod_ADC    # Pmod_ADC library\n",
    "base = BaseOverlay(\"base.bit\")"
   ]
  },
  {
   "cell_type": "code",
   "execution_count": 2,
   "metadata": {
    "id": "4UMzOxCBbJE_"
   },
   "outputs": [],
   "source": [
    "adc = Pmod_ADC(base.PMODA)"
   ]
  },
  {
   "cell_type": "markdown",
   "metadata": {
    "id": "hPqHRI81bJE_"
   },
   "source": [
    "Read the raw value and the 12 bit values from channel 1.\n",
    "\n",
    "Refer to docs: https://pynq.readthedocs.io/en/v2.1/pynq_package/pynq.lib/pynq.lib.pmod.html#pynq-lib-pmod"
   ]
  },
  {
   "cell_type": "code",
   "execution_count": 3,
   "metadata": {
    "id": "ZUPuwo0bbJFA"
   },
   "outputs": [
    {
     "data": {
      "text/plain": [
       "[3665, 4095]"
      ]
     },
     "execution_count": 3,
     "metadata": {},
     "output_type": "execute_result"
    }
   ],
   "source": [
    "adc.read_raw(ch1=1, ch2=1, ch3=0) # Get the raw value from the Pmod ADC."
   ]
  },
  {
   "cell_type": "code",
   "execution_count": 4,
   "metadata": {
    "id": "f4KtefkVbJFA"
   },
   "outputs": [
    {
     "data": {
      "text/plain": [
       "[1.7905, 1.9995]"
      ]
     },
     "execution_count": 4,
     "metadata": {},
     "output_type": "execute_result"
    }
   ],
   "source": [
    "adc.read(ch1=1, ch2=1, ch3=0)     # Get the voltage from the Pmod ADC."
   ]
  },
  {
   "cell_type": "markdown",
   "metadata": {
    "id": "HcIGxRCDbJFA"
   },
   "source": [
    "# Using MicroblazeLibrary\n",
    "\n",
    "Here we're going down a level and using the microblaze library to write $\\textbf{I2C commands}$ directly to the $\\textbf{PMOD_AD2 peripheral}$\n",
    "\n",
    "Use the documentation on the PMOD_AD2 to answer lab questions"
   ]
  },
  {
   "cell_type": "code",
   "execution_count": 5,
   "metadata": {
    "id": "SGWzJ5N6bJFB"
   },
   "outputs": [],
   "source": [
    "from pynq.overlays.base import BaseOverlay\n",
    "from pynq.lib import MicroblazeLibrary\n",
    "base = BaseOverlay(\"base.bit\")"
   ]
  },
  {
   "cell_type": "code",
   "execution_count": 6,
   "metadata": {
    "id": "i0zwGg1abJFB"
   },
   "outputs": [],
   "source": [
    "liba = MicroblazeLibrary(base.PMODA, ['i2c'])"
   ]
  },
  {
   "cell_type": "code",
   "execution_count": 7,
   "metadata": {
    "id": "AAkHZw_QbJFB"
   },
   "outputs": [
    {
     "data": {
      "text/plain": [
       "['__class__',\n",
       " '__delattr__',\n",
       " '__dict__',\n",
       " '__dir__',\n",
       " '__doc__',\n",
       " '__eq__',\n",
       " '__format__',\n",
       " '__ge__',\n",
       " '__getattribute__',\n",
       " '__gt__',\n",
       " '__hash__',\n",
       " '__init__',\n",
       " '__init_subclass__',\n",
       " '__le__',\n",
       " '__lt__',\n",
       " '__module__',\n",
       " '__ne__',\n",
       " '__new__',\n",
       " '__reduce__',\n",
       " '__reduce_ex__',\n",
       " '__repr__',\n",
       " '__setattr__',\n",
       " '__sizeof__',\n",
       " '__str__',\n",
       " '__subclasshook__',\n",
       " '__weakref__',\n",
       " '_build_constants',\n",
       " '_build_functions',\n",
       " '_mb',\n",
       " '_populate_typedefs',\n",
       " '_rpc_stream',\n",
       " 'active_functions',\n",
       " 'i2c_close',\n",
       " 'i2c_get_num_devices',\n",
       " 'i2c_open',\n",
       " 'i2c_open_device',\n",
       " 'i2c_read',\n",
       " 'i2c_write',\n",
       " 'release',\n",
       " 'reset',\n",
       " 'visitor']"
      ]
     },
     "execution_count": 7,
     "metadata": {},
     "output_type": "execute_result"
    }
   ],
   "source": [
    "dir(liba) # list the available commands for the liba object"
   ]
  },
  {
   "cell_type": "markdown",
   "metadata": {
    "id": "2nXUx1L_bJFB"
   },
   "source": [
    "In the cell below, open a new i2c device. Check the resources for the i2c_open parameters"
   ]
  },
  {
   "cell_type": "markdown",
   "metadata": {
    "id": "2nXUx1L_bJFB"
   },
   "source": [
    "# What command opens a new i2c device in the MicroblazeLibrary? What are the two parameters to this command?\n",
    "\n",
    "<font color='blue'> Command i2c_open(sda, scl) opens an I2C device attached to an I/O switch configured to use the specified pins. Calling this function will disconnect any previously assigned pins and return them to a high-impedance state. </font>"
   ]
  },
  {
   "cell_type": "code",
   "execution_count": 8,
   "metadata": {
    "id": "G1739qZebJFB"
   },
   "outputs": [],
   "source": [
    "sda, scl = 3, 2  # Clock line (SCL) and Data line (SDA)\n",
    "device = liba.i2c_open(sda, scl)# TODO open a device"
   ]
  },
  {
   "cell_type": "code",
   "execution_count": 9,
   "metadata": {
    "id": "Vnmp6VzDbJFC"
   },
   "outputs": [
    {
     "data": {
      "text/plain": [
       "['__class__',\n",
       " '__delattr__',\n",
       " '__dict__',\n",
       " '__dir__',\n",
       " '__doc__',\n",
       " '__eq__',\n",
       " '__format__',\n",
       " '__ge__',\n",
       " '__getattribute__',\n",
       " '__gt__',\n",
       " '__hash__',\n",
       " '__index__',\n",
       " '__init__',\n",
       " '__init_subclass__',\n",
       " '__int__',\n",
       " '__le__',\n",
       " '__lt__',\n",
       " '__module__',\n",
       " '__ne__',\n",
       " '__new__',\n",
       " '__reduce__',\n",
       " '__reduce_ex__',\n",
       " '__repr__',\n",
       " '__setattr__',\n",
       " '__sizeof__',\n",
       " '__str__',\n",
       " '__subclasshook__',\n",
       " '__weakref__',\n",
       " '_call_func',\n",
       " 'close',\n",
       " 'get_num_devices',\n",
       " 'open',\n",
       " 'open_device',\n",
       " 'read',\n",
       " 'val',\n",
       " 'write']"
      ]
     },
     "execution_count": 9,
     "metadata": {},
     "output_type": "execute_result"
    }
   ],
   "source": [
    "dir(device) # list the commands for the device class"
   ]
  },
  {
   "cell_type": "markdown",
   "metadata": {
    "id": "VuiNLUXfbJFC"
   },
   "source": [
    "Below we write a command to the I2C channel and then read from the I2C channel. Change the buf[0] value to select different channels. See the AD spec sheet Configuration Register. https://www.analog.com/media/en/technical-documentation/data-sheets/AD7991_7995_7999.pdf\n",
    "\n",
    "Changing the number of channels to read from will require a 2 byte read for each channel!"
   ]
  },
  {
   "cell_type": "markdown",
   "metadata": {},
   "source": [
    "# What does 0x28 refer to in the following line, device.write(0x28, buf, 1)?\n",
    "\n",
    "<font color='blue'>  It refers to $\\textbf{slave_address}$. <br>\n",
    "        \n",
    "i2c_write(i2c dev_id, unsigned int slave_address, unsigned char* buffer, unsigned int length)\n",
    "Issue a write command to the specified slave. <br>\n",
    "\n",
    "i2c_read(i2c dev_id, unsigned int slave_address, unsigned char* buffer, unsigned int length)\n",
    "Issue a read command to the specified slave. buffer is an array allocated by the caller of at least length length. <br>\n",
    "</font>\n",
    "\n",
    "# Why do we write and then read when using the Microblaze Library compared to just reading in the PMOD Library?\n",
    "<font color='blue'>  \n",
    "We write  i2c_write(i2c dev_id, unsigned int slave_address, unsigned char* buffer, unsigned int length)\n",
    "Issue a write command to the specified slave. <br>\n",
    "\n",
    "i2c_read(i2c dev_id, unsigned int slave_address, unsigned char* buffer, unsigned int length)\n",
    "Issue a read command to the specified slave. buffer is an array allocated by the caller of at least length length. <br>\n",
    "</font>"
   ]
  },
  {
   "cell_type": "code",
   "execution_count": 34,
   "metadata": {
    "id": "NkTblJ1obJFC"
   },
   "outputs": [
    {
     "name": "stdout",
     "output_type": "stream",
     "text": [
      "0b0000000100100101\n"
     ]
    }
   ],
   "source": [
    "buf = bytearray(2)            # return b'\\x00\\x00', returns a bytearray object\n",
    "buf[0] = int('00000000', 2)\n",
    "device.write(0x28, buf, 1)\n",
    "device.read(0x28, buf, 2)\n",
    "#print(format(int(((buf[0] << 8) | buf[1]))))\n",
    "print(format(int(((buf[0] << 8) | buf[1])), '#018b'))\n",
    "#print(((buf[0] << 8) | buf[1]))"
   ]
  },
  {
   "cell_type": "markdown",
   "metadata": {
    "id": "e18BrrVSbJFC"
   },
   "source": [
    "Compare the binary output given by ((buf[0]<<8) | buf[1]) to the AD7991 spec sheet. You can select the data only using the following command"
   ]
  },
  {
   "cell_type": "code",
   "execution_count": 33,
   "metadata": {
    "id": "s3wcNQTybJFC"
   },
   "outputs": [
    {
     "name": "stdout",
     "output_type": "stream",
     "text": [
      "292\n"
     ]
    }
   ],
   "source": [
    "result_12bit = (((buf[0] & 0x0F) << 8) | buf[1])\n",
    "print(result_12bit)"
   ]
  },
  {
   "cell_type": "markdown",
   "metadata": {
    "id": "FPDa1IiSbJFD"
   },
   "source": [
    "# Using MicroBlaze"
   ]
  },
  {
   "cell_type": "code",
   "execution_count": 29,
   "metadata": {
    "id": "2JvyY5QmbJFD"
   },
   "outputs": [],
   "source": [
    "base = BaseOverlay(\"base.bit\")"
   ]
  },
  {
   "cell_type": "code",
   "execution_count": 30,
   "metadata": {
    "id": "pLrRT0eobJFD"
   },
   "outputs": [],
   "source": [
    "%%microblaze base.PMODA\n",
    "\n",
    "#include \"i2c.h\"\n",
    "\n",
    "int read_adc(){\n",
    "    i2c i2c_device = i2c_open(3, 2);\n",
    "    unsigned char buf[2];\n",
    "    buf[0] = 0;\n",
    "    i2c_write(i2c_device, 0x28, buf, 1);\n",
    "    i2c_read(i2c_device, 0x28, buf, 2);\n",
    "    return ((buf[0] & 0x0F) << 8) | buf[1];\n",
    "}"
   ]
  },
  {
   "cell_type": "code",
   "execution_count": 31,
   "metadata": {
    "id": "WtBxES6fbJFD"
   },
   "outputs": [
    {
     "data": {
      "text/plain": [
       "293"
      ]
     },
     "execution_count": 31,
     "metadata": {},
     "output_type": "execute_result"
    }
   ],
   "source": [
    "read_adc()"
   ]
  },
  {
   "cell_type": "markdown",
   "metadata": {},
   "source": [
    "# What is the difference between writing to the device when using the Microblaze Library and directly on the Microblaze?\n",
    "\n",
    "<font color='blue'> It is the same writing to the device when using the Microblaze Library and directly on the Microblaze.</font>"
   ]
  },
  {
   "cell_type": "code",
   "execution_count": null,
   "metadata": {},
   "outputs": [],
   "source": []
  }
 ],
 "metadata": {
  "colab": {
   "name": "iic_example.ipynb",
   "provenance": []
  },
  "kernelspec": {
   "display_name": "Python 3 (ipykernel)",
   "language": "python",
   "name": "python3"
  },
  "language_info": {
   "codemirror_mode": {
    "name": "ipython",
    "version": 3
   },
   "file_extension": ".py",
   "mimetype": "text/x-python",
   "name": "python",
   "nbconvert_exporter": "python",
   "pygments_lexer": "ipython3",
   "version": "3.6.5"
  }
 },
 "nbformat": 4,
 "nbformat_minor": 4
}
